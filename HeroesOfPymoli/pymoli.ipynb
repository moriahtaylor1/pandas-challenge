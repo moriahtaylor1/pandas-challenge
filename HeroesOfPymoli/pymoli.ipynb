{
 "cells": [
  {
   "cell_type": "markdown",
   "metadata": {},
   "source": [
    "# Heroes of Pymoli\n",
    "#### Moriah Taylor\n",
    "#### March 27, 2021"
   ]
  },
  {
   "cell_type": "code",
   "execution_count": null,
   "metadata": {},
   "outputs": [],
   "source": [
    "##load dependencies##\n",
    "import pandas as pd\n",
    "from tabulate import tabulate"
   ]
  },
  {
   "cell_type": "markdown",
   "metadata": {},
   "source": [
    "### 1. Player Count"
   ]
  },
  {
   "cell_type": "code",
   "execution_count": null,
   "metadata": {},
   "outputs": [],
   "source": [
    "#total number of players"
   ]
  },
  {
   "cell_type": "markdown",
   "metadata": {},
   "source": [
    "The total number of players is **count**."
   ]
  },
  {
   "cell_type": "markdown",
   "metadata": {},
   "source": [
    "### 2. Purchasing Analysis"
   ]
  },
  {
   "cell_type": "code",
   "execution_count": null,
   "metadata": {},
   "outputs": [],
   "source": [
    "#number of unique items\n",
    "count_unique = \n",
    "#average purchase price\n",
    "avg_price = \n",
    "#total number of purchases\n",
    "count_purchases\n",
    "#total revenue\n",
    "total_revenue\n",
    "#print using tabulate function\n",
    "table2 = [[\"Number of Unique Items\", count_unique],\n",
    "        [\"Average Purchase Price\", avg_price],\n",
    "        [\"Total Number of Purchases\", count_purchases],\n",
    "        [\"Total Revenue\", total_revenue]]\n",
    "print(tabulate(table2))"
   ]
  },
  {
   "cell_type": "markdown",
   "metadata": {},
   "source": [
    "### 3. Gender Demographics"
   ]
  },
  {
   "cell_type": "code",
   "execution_count": null,
   "metadata": {},
   "outputs": [],
   "source": [
    "#count of male players\n",
    "count_male = \n",
    "#count of female players\n",
    "count_female = \n",
    "#count of other/non-disclosed\n",
    "count_other = \n",
    "#perc of male players\n",
    "##calculate percentage\n",
    "perc_male = \n",
    "##format as string\n",
    "formatted_perc_male = \n",
    "#perc of female players\n",
    "##calculate percentage\n",
    "perc_female = \n",
    "##format as string\n",
    "formatted_perc_female = \n",
    "#perc of other/non-disclosed\n",
    "##calculate percentage\n",
    "perc_other = \n",
    "##format as string\n",
    "formatted_perc_other = \n",
    "#print using tabulate function\n",
    "table3 = [[\"Male\", count_male, formatted_perc_male],\n",
    "         [\"Female\", count_female, formatted_perc_female],\n",
    "         [\"Other/Non-Disclosed\", count_other, formatted_perc_other]]\n",
    "print(tabulate(table, headers = [\"Gender\", \"Count\", \"Percentage\"]))"
   ]
  },
  {
   "cell_type": "markdown",
   "metadata": {},
   "source": [
    "### 4. Purchasing Analysis by Gender"
   ]
  },
  {
   "cell_type": "code",
   "execution_count": null,
   "metadata": {},
   "outputs": [],
   "source": [
    "#group by gender"
   ]
  },
  {
   "cell_type": "markdown",
   "metadata": {},
   "source": [
    "### 5. Age Demographics"
   ]
  },
  {
   "cell_type": "code",
   "execution_count": null,
   "metadata": {},
   "outputs": [],
   "source": [
    "#group by age\n",
    "#use bins of 4 (<10, 10-14, 15-19, etc)"
   ]
  },
  {
   "cell_type": "markdown",
   "metadata": {},
   "source": [
    "### 6. Top Spenders"
   ]
  },
  {
   "cell_type": "code",
   "execution_count": null,
   "metadata": {},
   "outputs": [],
   "source": [
    "#top 5 spenders by total purchase value\n"
   ]
  },
  {
   "cell_type": "code",
   "execution_count": null,
   "metadata": {},
   "outputs": [],
   "source": []
  },
  {
   "cell_type": "code",
   "execution_count": null,
   "metadata": {},
   "outputs": [],
   "source": []
  },
  {
   "cell_type": "code",
   "execution_count": null,
   "metadata": {},
   "outputs": [],
   "source": []
  },
  {
   "cell_type": "code",
   "execution_count": null,
   "metadata": {},
   "outputs": [],
   "source": []
  }
 ],
 "metadata": {
  "kernelspec": {
   "display_name": "Python [conda env:PythonData]",
   "language": "python",
   "name": "conda-env-PythonData-py"
  },
  "language_info": {
   "codemirror_mode": {
    "name": "ipython",
    "version": 3
   },
   "file_extension": ".py",
   "mimetype": "text/x-python",
   "name": "python",
   "nbconvert_exporter": "python",
   "pygments_lexer": "ipython3",
   "version": "3.6.10"
  }
 },
 "nbformat": 4,
 "nbformat_minor": 2
}
